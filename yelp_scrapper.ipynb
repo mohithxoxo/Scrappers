{
  "nbformat": 4,
  "nbformat_minor": 0,
  "metadata": {
    "colab": {
      "name": "Welcome To Colaboratory",
      "provenance": [],
      "collapsed_sections": [],
      "toc_visible": true,
      "include_colab_link": true
    },
    "kernelspec": {
      "display_name": "Python 3",
      "name": "python3"
    }
  },
  "cells": [
    {
      "cell_type": "markdown",
      "metadata": {
        "id": "view-in-github",
        "colab_type": "text"
      },
      "source": [
        "<a href=\"https://colab.research.google.com/github/mohithxoxo/Scrappers/blob/master/Welcome_To_Colaboratory.ipynb\" target=\"_parent\"><img src=\"https://colab.research.google.com/assets/colab-badge.svg\" alt=\"Open In Colab\"/></a>"
      ]
    },
    {
      "cell_type": "code",
      "metadata": {
        "id": "Jek5YCO147Rr",
        "colab_type": "code",
        "colab": {
          "base_uri": "https://localhost:8080/",
          "height": 241
        },
        "outputId": "ce20a749-6c82-4a3e-b0a8-e05589243e54"
      },
      "source": [
        "!pip install autoscraper "
      ],
      "execution_count": 3,
      "outputs": [
        {
          "output_type": "stream",
          "text": [
            "Collecting autoscraper\n",
            "  Downloading https://files.pythonhosted.org/packages/30/95/f303c357e0729c1a1b8be9442a9515bb152d174de7bb9c4c1b613f18f746/autoscraper-1.1.5-py3-none-any.whl\n",
            "Requirement already satisfied: requests in /usr/local/lib/python3.6/dist-packages (from autoscraper) (2.23.0)\n",
            "Requirement already satisfied: bs4 in /usr/local/lib/python3.6/dist-packages (from autoscraper) (0.0.1)\n",
            "Requirement already satisfied: lxml in /usr/local/lib/python3.6/dist-packages (from autoscraper) (4.2.6)\n",
            "Requirement already satisfied: urllib3!=1.25.0,!=1.25.1,<1.26,>=1.21.1 in /usr/local/lib/python3.6/dist-packages (from requests->autoscraper) (1.24.3)\n",
            "Requirement already satisfied: idna<3,>=2.5 in /usr/local/lib/python3.6/dist-packages (from requests->autoscraper) (2.10)\n",
            "Requirement already satisfied: certifi>=2017.4.17 in /usr/local/lib/python3.6/dist-packages (from requests->autoscraper) (2020.6.20)\n",
            "Requirement already satisfied: chardet<4,>=3.0.2 in /usr/local/lib/python3.6/dist-packages (from requests->autoscraper) (3.0.4)\n",
            "Requirement already satisfied: beautifulsoup4 in /usr/local/lib/python3.6/dist-packages (from bs4->autoscraper) (4.6.3)\n",
            "Installing collected packages: autoscraper\n",
            "Successfully installed autoscraper-1.1.5\n"
          ],
          "name": "stdout"
        }
      ]
    },
    {
      "cell_type": "code",
      "metadata": {
        "id": "_NhoqNrV4igS",
        "colab_type": "code",
        "colab": {
          "base_uri": "https://localhost:8080/",
          "height": 54
        },
        "outputId": "875322a8-4ce0-446f-ebcd-73957e76e36d"
      },
      "source": [
        "from autoscraper import AutoScraper\n",
        "\n",
        "#1\n",
        "url = \"https://www.yelp.com/search?find_desc=Food%20Delivery&find_loc=San%20Francisco%2C%20CA\"\n",
        "#2\n",
        "wanted_list = ['Man vs Fries']\n",
        "#3\n",
        "scraper = AutoScraper()\n",
        "#4\n",
        "result = scraper.build(url, wanted_list)\n",
        "print(result)"
      ],
      "execution_count": 88,
      "outputs": [
        {
          "output_type": "stream",
          "text": [
            "[\".css-1etxbbi{top:0;}.css-4p40fi{width:24px;height:24px;display:inline-block;vertical-align:middle;position:relative;overflow:hidden;top:-0.1em;fill:rgba(43,39,60,1);top:0;}.css-4p40fi::before{position:absolute;display:block;left:0;}.css-4p40fi::after{content:'';display:block;position:absolute;left:0;right:0;top:0;bottom:0;}.css-4p40fi svg{position:absolute;width:100%;height:100%;fill:inherit;display:block;left:0;top:0;right:0;bottom:0;}.css-1etxbbi{top:0;}.css-4p40fi{width:24px;height:24px;display:inline-block;vertical-align:middle;position:relative;overflow:hidden;top:-0.1em;fill:rgba(43,39,60,1);top:0;}.css-4p40fi::before{position:absolute;display:block;left:0;}.css-4p40fi::after{content:'';display:block;position:absolute;left:0;right:0;top:0;bottom:0;}.css-4p40fi svg{position:absolute;width:100%;height:100%;fill:inherit;display:block;left:0;top:0;right:0;bottom:0;}\", 'Man vs Fries', '(415) 294-0191', \"“Now OPEN! Man vs Fries exclusive delivery pop-up of an American classic. Sometimes, it's good to be bad. Take for example hella crisp, delicious french fries, drizzled with savory...” more\", 'Authentiko', '(415) 237-6534', \".css-1dfhz6p{width:24px;height:24px;display:inline-block;vertical-align:middle;position:relative;overflow:hidden;top:-0.1em;fill:rgba(255,126,66,1);}.css-1dfhz6p::before{position:absolute;display:block;left:0;}.css-1dfhz6p::after{content:'';display:block;position:absolute;left:0;right:0;top:0;bottom:0;}.css-1dfhz6p svg{position:absolute;width:100%;height:100%;fill:inherit;display:block;left:0;top:0;right:0;bottom:0;}Healthy dining.css-1p80smk{width:16px;height:16px;display:inline-block;vertical-align:middle;position:relative;overflow:hidden;top:-0.1em;}.css-1p80smk::before{position:absolute;display:block;left:0;}.css-1p80smk::after{content:'';display:block;position:absolute;left:0;right:0;top:0;bottom:0;}.css-1p80smk svg{position:absolute;width:100%;height:100%;fill:inherit;display:block;left:0;top:0;right:0;bottom:0;}\", '“Authentic Mediterranean food with a modern touch available now for delivery and take out. Keto, Veggie, Vegan friendly.” more', 'Start OrderOffers takeout and delivery', '1. Dumpling Baby China Bistro', '(415) 592-8232', \".css-j67i4x{width:24px;height:24px;display:inline-block;vertical-align:middle;position:relative;overflow:hidden;top:-0.1em;fill:rgba(10,179,201,1);}.css-j67i4x::before{position:absolute;display:block;left:0;}.css-j67i4x::after{content:'';display:block;position:absolute;left:0;right:0;top:0;bottom:0;}.css-j67i4x svg{position:absolute;width:100%;height:100%;fill:inherit;display:block;left:0;top:0;right:0;bottom:0;}Curbside drop-off during COVID-19.css-1p80smk{width:16px;height:16px;display:inline-block;vertical-align:middle;position:relative;overflow:hidden;top:-0.1em;}.css-1p80smk::before{position:absolute;display:block;left:0;}.css-1p80smk::after{content:'';display:block;position:absolute;left:0;right:0;top:0;bottom:0;}.css-1p80smk svg{position:absolute;width:100%;height:100%;fill:inherit;display:block;left:0;top:0;right:0;bottom:0;}\", \"“ hot. This spot was jumpin' with takeout orders; I predict they'll do very well, especially when USF reopens. No dine in but they offer pickup and delivery. I chose pickup so they wouldn't lose 30% off the top that delivery services take from restaurants.” more\", '2. Ottoman Eats', '(415) 601-2856', \"“We had a big delivery order from Ottoman Eats today, and the food was fantastic! Here's what we liked and what we would skip next time. Recommended: Muhammara - A delicious version of the classic red pepper dip. Hummus Islim” more\", '3. T Kee Restaurant', '(415) 664-8888', '4. Chicken as Cluck', '(415) 670-0428', \".css-yyirv3{width:24px;height:24px;display:inline-block;vertical-align:middle;position:relative;overflow:hidden;top:-0.1em;fill:rgba(5,168,130,1);}.css-yyirv3::before{position:absolute;display:block;left:0;}.css-yyirv3::after{content:'';display:block;position:absolute;left:0;right:0;top:0;bottom:0;}.css-yyirv3 svg{position:absolute;width:100%;height:100%;fill:inherit;display:block;left:0;top:0;right:0;bottom:0;}Vegetarian friendly.css-1p80smk{width:16px;height:16px;display:inline-block;vertical-align:middle;position:relative;overflow:hidden;top:-0.1em;}.css-1p80smk::before{position:absolute;display:block;left:0;}.css-1p80smk::after{content:'';display:block;position:absolute;left:0;right:0;top:0;bottom:0;}.css-1p80smk svg{position:absolute;width:100%;height:100%;fill:inherit;display:block;left:0;top:0;right:0;bottom:0;}\", \"“The food was hot and very tasty; however the value was disappointing. The $9(!) order of fried cauliflower only contained...five medium-sized pieces of cauliflower. Also, this was the first delivery I've received in a long time where the bag wasn't sealed with staples or tape.” more\", 'See Portfolio', '5. Dumpling Kitchen', '(415) 682-8938', \"“Oh why didn't I take photos?! It all looked and tasted great, which is impressive for a delivery order. I have not a single complaint other than it was so good we couldn't help but stuff our faces full! We ordered a scheduled” more\", '6. Rooster & Rice', '(415) 346-9700', \"“My partner wasn't feeling well and had a massive craving for the Marina w/ fried chicken skin. They don't always have it avail and it's not on Doordash's delivery menu. So I called and the lovely lady over the phone made it all” more\", '7. Hoshinoya', '(415) 610-3929', \".css-1dfhz6p{width:24px;height:24px;display:inline-block;vertical-align:middle;position:relative;overflow:hidden;top:-0.1em;fill:rgba(255,126,66,1);}.css-1dfhz6p::before{position:absolute;display:block;left:0;}.css-1dfhz6p::after{content:'';display:block;position:absolute;left:0;right:0;top:0;bottom:0;}.css-1dfhz6p svg{position:absolute;width:100%;height:100%;fill:inherit;display:block;left:0;top:0;right:0;bottom:0;}Casual dining.css-1p80smk{width:16px;height:16px;display:inline-block;vertical-align:middle;position:relative;overflow:hidden;top:-0.1em;}.css-1p80smk::before{position:absolute;display:block;left:0;}.css-1p80smk::after{content:'';display:block;position:absolute;left:0;right:0;top:0;bottom:0;}.css-1p80smk svg{position:absolute;width:100%;height:100%;fill:inherit;display:block;left:0;top:0;right:0;bottom:0;}\", '8. Dumpling Alley', '(415) 753-9617', '“It was a bit strange delivery but most of all it was good. It all began with choosing what dumplings we needed. We were ordering via the phone and had some misunderstanding but in the end we ordered what we wanted. Delivery time” more', '9. Tyga Bites', '(877) 328-8942', 'Start OrderOffers delivery', '10. Beretta Pop Up', '(415) 654-5211', \".css-j67i4x{width:24px;height:24px;display:inline-block;vertical-align:middle;position:relative;overflow:hidden;top:-0.1em;fill:rgba(10,179,201,1);}.css-j67i4x::before{position:absolute;display:block;left:0;}.css-j67i4x::after{content:'';display:block;position:absolute;left:0;right:0;top:0;bottom:0;}.css-j67i4x svg{position:absolute;width:100%;height:100%;fill:inherit;display:block;left:0;top:0;right:0;bottom:0;}Gift cards during COVID-19.css-1p80smk{width:16px;height:16px;display:inline-block;vertical-align:middle;position:relative;overflow:hidden;top:-0.1em;}.css-1p80smk::before{position:absolute;display:block;left:0;}.css-1p80smk::after{content:'';display:block;position:absolute;left:0;right:0;top:0;bottom:0;}.css-1p80smk svg{position:absolute;width:100%;height:100%;fill:inherit;display:block;left:0;top:0;right:0;bottom:0;}\", 'Find a TableOffers reservations', '11. Sotto Mare Oysteria & Seafood', '(415) 398-3181', \".css-yyirv3{width:24px;height:24px;display:inline-block;vertical-align:middle;position:relative;overflow:hidden;top:-0.1em;fill:rgba(5,168,130,1);}.css-yyirv3::before{position:absolute;display:block;left:0;}.css-yyirv3::after{content:'';display:block;position:absolute;left:0;right:0;top:0;bottom:0;}.css-yyirv3 svg{position:absolute;width:100%;height:100%;fill:inherit;display:block;left:0;top:0;right:0;bottom:0;}Outdoor seating.css-1p80smk{width:16px;height:16px;display:inline-block;vertical-align:middle;position:relative;overflow:hidden;top:-0.1em;}.css-1p80smk::before{position:absolute;display:block;left:0;}.css-1p80smk::after{content:'';display:block;position:absolute;left:0;right:0;top:0;bottom:0;}.css-1p80smk svg{position:absolute;width:100%;height:100%;fill:inherit;display:block;left:0;top:0;right:0;bottom:0;}\", '“The food was delicious, especially considering it was seafood, not something I normally have delivered. My only complaint is that the delivery person had squashed the soup container so half of one container covered everything, but I would definitely order from them again.......!” more', '12. House of Thai', '(415) 441-2248', \"“Got delivery from here recently and it was the driest, blandest pad thai I've had in a long time. The kha moo was just skin and fat, which is ok when it also has some actual meat with it. The only reason it's two stars is because i did like the garlic rice.” more\", '13. Mamahuhu', '(415) 742-4958', \"“** The following review reflects my delivery experience DURING the COVID-19 pandemic. ** Even though Brandon Jew has been prominent on the local food scene for a while, this is the first time I've tried dishes created by him” more\", '14. MaMa Ji’s', '(415) 626-4416', '“Literally so good. Absolutely obsessed w this place. Especially during COVID time. Quick delivery, everything hot, tasty” more', '15. The Italian Homemade Company', '(415) 655-9325', \"“I've eaten in here, got takeouts and delivery on ubereats too many times I could count. The Bolognese is to die for and the pesto pasta is my close second favorite. The burrata salad is phenomenal too. The only complaint I have” more\", '16. Chang’s Kitchen', '(415) 731-8110', \"“Solid 4 stars for delivery at Chang's Kitchen. They were located in the Inner Sunset which is a ways from me and still delivered within 30 minutes which is lightning fast. I'm typically too lazy to drive that far for food so” more\", '17. Gluten Free Culture', '(415) 606-9358', '18. Kung Food', '(415) 673-6688', '“The food was great! Delivery way earlier than estimated! Nice! Egg rolls perfectly crisp, orange chicken moist and sweet, veggie fried rice full of veggies. Price decent.” more', '19. California Fish Market Restaurant', '(415) 757-0918', \".css-yyirv3{width:24px;height:24px;display:inline-block;vertical-align:middle;position:relative;overflow:hidden;top:-0.1em;fill:rgba(5,168,130,1);}.css-yyirv3::before{position:absolute;display:block;left:0;}.css-yyirv3::after{content:'';display:block;position:absolute;left:0;right:0;top:0;bottom:0;}.css-yyirv3 svg{position:absolute;width:100%;height:100%;fill:inherit;display:block;left:0;top:0;right:0;bottom:0;}Locally sourced ingredients.css-1p80smk{width:16px;height:16px;display:inline-block;vertical-align:middle;position:relative;overflow:hidden;top:-0.1em;}.css-1p80smk::before{position:absolute;display:block;left:0;}.css-1p80smk::after{content:'';display:block;position:absolute;left:0;right:0;top:0;bottom:0;}.css-1p80smk svg{position:absolute;width:100%;height:100%;fill:inherit;display:block;left:0;top:0;right:0;bottom:0;}\", '20. Baan Yaai', '(415) 264-9082', '21. Mr Dragon', '(415) 702-9935', '“Very impressed with this place!! We ordered chicken chow mein, walnut prawns and chicken wings. Delivery arrived early (on a Saturday night) and to our suprise , was still piping hot!! Everything tasted great, the wings” more', '22. Mission Asia Noodle', '(415) 333-2318', \"“I tried this place for the first time and definitely will be ordering again! The food is amazing and flavorful. If you're looking for good food and nice people, look no further. I ordered the Singaporean curry noodles, garlic string beans and a iced HK milk tea. Definitely a 5 star place!!! Plus the...” more\", '23. What The Cluck', '(415) 702-6777', \"“Awesome Thai Chicken and Rice. The entire staff is friendly. I've ordered delivery and takeout most of the time. Food and serving size is pretty consistent. 10/10 would recommend!!” more\", '24. Dumpling Time', '(415) 525-4797', \"“ the Siu Mai. I think they added a new cilantro sauce recently (or maybe it existed before but I had not noticed it) which takes their dumplings to the next level. I've been getting the dumplings mainly through deliveries during” more\", '25. Marcella’s Lasagneria', '(415) 920-2225', \"“ was nothing enticing, then I googled Italian Delivery and came up with DoorDash. Lots of selections, and I was thrilled to see Marcella's on their list. I used to work in the Dogpatch so I know Gian Franco and Mossimo, and know their” more\", '26. Farmhouse Kitchen Thai Cuisine', '(415) 814-2920', \"“Ordered delivery from their Farmhouse Thai Express to-go kitchen in the TL. This is a new outpost for them since COVID started. Holy guacamole was this the worst (Thai) food I've ever had. Thai in () because there was no Thai” more\", '27. Rooster & Rice', '(415) 573-0610', '28. Presidio Kebab', '(415) 947-7163', \".css-j67i4x{width:24px;height:24px;display:inline-block;vertical-align:middle;position:relative;overflow:hidden;top:-0.1em;fill:rgba(10,179,201,1);}.css-j67i4x::before{position:absolute;display:block;left:0;}.css-j67i4x::after{content:'';display:block;position:absolute;left:0;right:0;top:0;bottom:0;}.css-j67i4x svg{position:absolute;width:100%;height:100%;fill:inherit;display:block;left:0;top:0;right:0;bottom:0;}Curbside pickup during COVID-19.css-1p80smk{width:16px;height:16px;display:inline-block;vertical-align:middle;position:relative;overflow:hidden;top:-0.1em;}.css-1p80smk::before{position:absolute;display:block;left:0;}.css-1p80smk::after{content:'';display:block;position:absolute;left:0;right:0;top:0;bottom:0;}.css-1p80smk svg{position:absolute;width:100%;height:100%;fill:inherit;display:block;left:0;top:0;right:0;bottom:0;}\", '“ at Presdio Kebab. We ordered delivery and the order was delivered promptly and well packaged. We ordered a few Mezes. The Cacik (yogurt and cucumber) was rich and flavorful. The Kofte Kebab had secret spices added to ground beef” more', '29. Giorgio’s Pizzeria', '(415) 668-1266', \"“Giorgio's is our favorite pizza delivery spot. We live close by and they deliver incredibly fast, sometimes within 30 minutes of calling if we are lucky! I wouldn't say that this pizza is exceptionally unique in any way but it” more\", '30. Thai Time Restaurant', '(415) 831-3663', \"“I like this restaurant and I want to support at this difficult time (Covid-19). That's why I usually order delivery or takeout. My top list of favorite dishes are: Tom Yum Gai Soup, Thai Time Wings, Spicy Green Bean Fried Rice” more\", 'Mimino', '(415) 449-5437', '“Georgian cuisine, delivery only, virtual restaurant” more', 'Dumpling Baby China Bistro', 'Ottoman Eats', 'T Kee Restaurant', 'Chicken as Cluck', 'Dumpling Kitchen', 'Rooster & Rice', 'Hoshinoya', 'Dumpling Alley', 'Tyga Bites', 'Beretta Pop Up', 'Sotto Mare Oysteria & Seafood', 'House of Thai', 'Mamahuhu', 'MaMa Ji’s', 'The Italian Homemade Company', 'Chang’s Kitchen', 'Gluten Free Culture', 'Kung Food', 'California Fish Market Restaurant', 'Baan Yaai', 'Mr Dragon', 'Mission Asia Noodle', 'What The Cluck', 'Dumpling Time', 'Marcella’s Lasagneria', 'Farmhouse Kitchen Thai Cuisine', 'Presidio Kebab', 'Giorgio’s Pizzeria', 'Thai Time Restaurant']\n"
          ],
          "name": "stdout"
        }
      ]
    },
    {
      "cell_type": "code",
      "metadata": {
        "id": "D9PsFzbX6Bfl",
        "colab_type": "code",
        "colab": {
          "base_uri": "https://localhost:8080/",
          "height": 419
        },
        "outputId": "b38a2feb-d219-491b-fe2f-1beed7e8b31b"
      },
      "source": [
        "import pandas as pd\n",
        "pd.DataFrame(result)"
      ],
      "execution_count": 89,
      "outputs": [
        {
          "output_type": "execute_result",
          "data": {
            "text/html": [
              "<div>\n",
              "<style scoped>\n",
              "    .dataframe tbody tr th:only-of-type {\n",
              "        vertical-align: middle;\n",
              "    }\n",
              "\n",
              "    .dataframe tbody tr th {\n",
              "        vertical-align: top;\n",
              "    }\n",
              "\n",
              "    .dataframe thead th {\n",
              "        text-align: right;\n",
              "    }\n",
              "</style>\n",
              "<table border=\"1\" class=\"dataframe\">\n",
              "  <thead>\n",
              "    <tr style=\"text-align: right;\">\n",
              "      <th></th>\n",
              "      <th>0</th>\n",
              "    </tr>\n",
              "  </thead>\n",
              "  <tbody>\n",
              "    <tr>\n",
              "      <th>0</th>\n",
              "      <td>.css-1etxbbi{top:0;}.css-4p40fi{width:24px;hei...</td>\n",
              "    </tr>\n",
              "    <tr>\n",
              "      <th>1</th>\n",
              "      <td>Man vs Fries</td>\n",
              "    </tr>\n",
              "    <tr>\n",
              "      <th>2</th>\n",
              "      <td>(415) 294-0191</td>\n",
              "    </tr>\n",
              "    <tr>\n",
              "      <th>3</th>\n",
              "      <td>“Now OPEN! Man vs Fries exclusive delivery pop...</td>\n",
              "    </tr>\n",
              "    <tr>\n",
              "      <th>4</th>\n",
              "      <td>Authentiko</td>\n",
              "    </tr>\n",
              "    <tr>\n",
              "      <th>...</th>\n",
              "      <td>...</td>\n",
              "    </tr>\n",
              "    <tr>\n",
              "      <th>128</th>\n",
              "      <td>Marcella’s Lasagneria</td>\n",
              "    </tr>\n",
              "    <tr>\n",
              "      <th>129</th>\n",
              "      <td>Farmhouse Kitchen Thai Cuisine</td>\n",
              "    </tr>\n",
              "    <tr>\n",
              "      <th>130</th>\n",
              "      <td>Presidio Kebab</td>\n",
              "    </tr>\n",
              "    <tr>\n",
              "      <th>131</th>\n",
              "      <td>Giorgio’s Pizzeria</td>\n",
              "    </tr>\n",
              "    <tr>\n",
              "      <th>132</th>\n",
              "      <td>Thai Time Restaurant</td>\n",
              "    </tr>\n",
              "  </tbody>\n",
              "</table>\n",
              "<p>133 rows × 1 columns</p>\n",
              "</div>"
            ],
            "text/plain": [
              "                                                     0\n",
              "0    .css-1etxbbi{top:0;}.css-4p40fi{width:24px;hei...\n",
              "1                                         Man vs Fries\n",
              "2                                       (415) 294-0191\n",
              "3    “Now OPEN! Man vs Fries exclusive delivery pop...\n",
              "4                                           Authentiko\n",
              "..                                                 ...\n",
              "128                              Marcella’s Lasagneria\n",
              "129                     Farmhouse Kitchen Thai Cuisine\n",
              "130                                     Presidio Kebab\n",
              "131                                 Giorgio’s Pizzeria\n",
              "132                               Thai Time Restaurant\n",
              "\n",
              "[133 rows x 1 columns]"
            ]
          },
          "metadata": {
            "tags": []
          },
          "execution_count": 89
        }
      ]
    },
    {
      "cell_type": "code",
      "metadata": {
        "id": "Qj6G29Hz46BQ",
        "colab_type": "code",
        "colab": {
          "base_uri": "https://localhost:8080/",
          "height": 142
        },
        "outputId": "adf67b1f-ef7a-4cca-aff4-9cab507cd993"
      },
      "source": [
        "pd.DataFrame(result[1:4])"
      ],
      "execution_count": 92,
      "outputs": [
        {
          "output_type": "execute_result",
          "data": {
            "text/html": [
              "<div>\n",
              "<style scoped>\n",
              "    .dataframe tbody tr th:only-of-type {\n",
              "        vertical-align: middle;\n",
              "    }\n",
              "\n",
              "    .dataframe tbody tr th {\n",
              "        vertical-align: top;\n",
              "    }\n",
              "\n",
              "    .dataframe thead th {\n",
              "        text-align: right;\n",
              "    }\n",
              "</style>\n",
              "<table border=\"1\" class=\"dataframe\">\n",
              "  <thead>\n",
              "    <tr style=\"text-align: right;\">\n",
              "      <th></th>\n",
              "      <th>0</th>\n",
              "    </tr>\n",
              "  </thead>\n",
              "  <tbody>\n",
              "    <tr>\n",
              "      <th>0</th>\n",
              "      <td>Man vs Fries</td>\n",
              "    </tr>\n",
              "    <tr>\n",
              "      <th>1</th>\n",
              "      <td>(415) 294-0191</td>\n",
              "    </tr>\n",
              "    <tr>\n",
              "      <th>2</th>\n",
              "      <td>“Now OPEN! Man vs Fries exclusive delivery pop...</td>\n",
              "    </tr>\n",
              "  </tbody>\n",
              "</table>\n",
              "</div>"
            ],
            "text/plain": [
              "                                                   0\n",
              "0                                       Man vs Fries\n",
              "1                                     (415) 294-0191\n",
              "2  “Now OPEN! Man vs Fries exclusive delivery pop..."
            ]
          },
          "metadata": {
            "tags": []
          },
          "execution_count": 92
        }
      ]
    },
    {
      "cell_type": "code",
      "metadata": {
        "id": "Ag5kPsb_AA-6",
        "colab_type": "code",
        "colab": {}
      },
      "source": [
        "data= []\n",
        "data = pd.DataFrame(data)\n",
        "data['name'] = None\n",
        "data['phone'] = None\n",
        "data['review'] = None"
      ],
      "execution_count": 258,
      "outputs": []
    },
    {
      "cell_type": "code",
      "metadata": {
        "id": "EFNpfDCwDt4s",
        "colab_type": "code",
        "colab": {
          "base_uri": "https://localhost:8080/",
          "height": 35
        },
        "outputId": "51b73de5-4ff8-4a5d-ea51-2cd06296de2a"
      },
      "source": [
        "result[9]"
      ],
      "execution_count": 106,
      "outputs": [
        {
          "output_type": "execute_result",
          "data": {
            "application/vnd.google.colaboratory.intrinsic+json": {
              "type": "string"
            },
            "text/plain": [
              "'1. Dumpling Baby China Bistro'"
            ]
          },
          "metadata": {
            "tags": []
          },
          "execution_count": 106
        }
      ]
    },
    {
      "cell_type": "code",
      "metadata": {
        "id": "GA-SAsN0GKVe",
        "colab_type": "code",
        "colab": {
          "base_uri": "https://localhost:8080/",
          "height": 34
        },
        "outputId": "ee2a06c4-139d-4a1f-d2d0-b224469dec96"
      },
      "source": [
        "len(result)"
      ],
      "execution_count": 170,
      "outputs": [
        {
          "output_type": "execute_result",
          "data": {
            "text/plain": [
              "133"
            ]
          },
          "metadata": {
            "tags": []
          },
          "execution_count": 170
        }
      ]
    },
    {
      "cell_type": "code",
      "metadata": {
        "id": "4r7sbOHBFX7t",
        "colab_type": "code",
        "colab": {
          "base_uri": "https://localhost:8080/",
          "height": 510
        },
        "outputId": "45b99322-be4a-43a0-8f0c-adf6daa3330a"
      },
      "source": [
        "data1 = []\n",
        "final = []\n",
        "for i in range(1,30):\n",
        "  ind = str(i) + '.'\n",
        "  d = []\n",
        "  for i in range(0,len(result)):\n",
        "    if ind in result[i]:\n",
        "      d.append(i)\n",
        "      print('Success!',d)\n",
        "      final.append(result[d[0]])\n",
        "      break"
      ],
      "execution_count": 308,
      "outputs": [
        {
          "output_type": "stream",
          "text": [
            "Success! [9]\n",
            "Success! [13]\n",
            "Success! [16]\n",
            "Success! [18]\n",
            "Success! [23]\n",
            "Success! [26]\n",
            "Success! [29]\n",
            "Success! [32]\n",
            "Success! [11]\n",
            "Success! [38]\n",
            "Success! [42]\n",
            "Success! [46]\n",
            "Success! [49]\n",
            "Success! [52]\n",
            "Success! [55]\n",
            "Success! [58]\n",
            "Success! [61]\n",
            "Success! [63]\n",
            "Success! [11]\n",
            "Success! [69]\n",
            "Success! [71]\n",
            "Success! [74]\n",
            "Success! [77]\n",
            "Success! [80]\n",
            "Success! [83]\n",
            "Success! [86]\n",
            "Success! [89]\n",
            "Success! [91]\n",
            "Success! [95]\n"
          ],
          "name": "stdout"
        }
      ]
    },
    {
      "cell_type": "code",
      "metadata": {
        "id": "E--pzBJCQUOE",
        "colab_type": "code",
        "colab": {
          "base_uri": "https://localhost:8080/",
          "height": 88
        },
        "outputId": "209e5142-fa24-43f1-a5d0-5ec32e9efa98"
      },
      "source": [
        "d = int(95)\n",
        "result[d:d+3] "
      ],
      "execution_count": 321,
      "outputs": [
        {
          "output_type": "execute_result",
          "data": {
            "text/plain": [
              "['29. Giorgio’s Pizzeria',\n",
              " '(415) 668-1266',\n",
              " \"“Giorgio's is our favorite pizza delivery spot. We live close by and they deliver incredibly fast, sometimes within 30 minutes of calling if we are lucky! I wouldn't say that this pizza is exceptionally unique in any way but it” more\"]"
            ]
          },
          "metadata": {
            "tags": []
          },
          "execution_count": 321
        }
      ]
    },
    {
      "cell_type": "code",
      "metadata": {
        "id": "0rJ5Jw_lOikg",
        "colab_type": "code",
        "colab": {
          "base_uri": "https://localhost:8080/",
          "height": 530
        },
        "outputId": "0705a460-78c3-41d1-8165-40b56182e24f"
      },
      "source": [
        "final"
      ],
      "execution_count": 282,
      "outputs": [
        {
          "output_type": "execute_result",
          "data": {
            "text/plain": [
              "['1. Dumpling Baby China Bistro',\n",
              " '2. Ottoman Eats',\n",
              " '3. T Kee Restaurant',\n",
              " '4. Chicken as Cluck',\n",
              " '5. Dumpling Kitchen',\n",
              " '6. Rooster & Rice',\n",
              " '7. Hoshinoya',\n",
              " '8. Dumpling Alley',\n",
              " \".css-j67i4x{width:24px;height:24px;display:inline-block;vertical-align:middle;position:relative;overflow:hidden;top:-0.1em;fill:rgba(10,179,201,1);}.css-j67i4x::before{position:absolute;display:block;left:0;}.css-j67i4x::after{content:'';display:block;position:absolute;left:0;right:0;top:0;bottom:0;}.css-j67i4x svg{position:absolute;width:100%;height:100%;fill:inherit;display:block;left:0;top:0;right:0;bottom:0;}Curbside drop-off during COVID-19.css-1p80smk{width:16px;height:16px;display:inline-block;vertical-align:middle;position:relative;overflow:hidden;top:-0.1em;}.css-1p80smk::before{position:absolute;display:block;left:0;}.css-1p80smk::after{content:'';display:block;position:absolute;left:0;right:0;top:0;bottom:0;}.css-1p80smk svg{position:absolute;width:100%;height:100%;fill:inherit;display:block;left:0;top:0;right:0;bottom:0;}\",\n",
              " '10. Beretta Pop Up',\n",
              " '11. Sotto Mare Oysteria & Seafood',\n",
              " '12. House of Thai',\n",
              " '13. Mamahuhu',\n",
              " '14. MaMa Ji’s',\n",
              " '15. The Italian Homemade Company',\n",
              " '16. Chang’s Kitchen',\n",
              " '17. Gluten Free Culture',\n",
              " '18. Kung Food',\n",
              " \".css-j67i4x{width:24px;height:24px;display:inline-block;vertical-align:middle;position:relative;overflow:hidden;top:-0.1em;fill:rgba(10,179,201,1);}.css-j67i4x::before{position:absolute;display:block;left:0;}.css-j67i4x::after{content:'';display:block;position:absolute;left:0;right:0;top:0;bottom:0;}.css-j67i4x svg{position:absolute;width:100%;height:100%;fill:inherit;display:block;left:0;top:0;right:0;bottom:0;}Curbside drop-off during COVID-19.css-1p80smk{width:16px;height:16px;display:inline-block;vertical-align:middle;position:relative;overflow:hidden;top:-0.1em;}.css-1p80smk::before{position:absolute;display:block;left:0;}.css-1p80smk::after{content:'';display:block;position:absolute;left:0;right:0;top:0;bottom:0;}.css-1p80smk svg{position:absolute;width:100%;height:100%;fill:inherit;display:block;left:0;top:0;right:0;bottom:0;}\",\n",
              " '20. Baan Yaai',\n",
              " '21. Mr Dragon',\n",
              " '22. Mission Asia Noodle',\n",
              " '23. What The Cluck',\n",
              " '24. Dumpling Time',\n",
              " '25. Marcella’s Lasagneria',\n",
              " '26. Farmhouse Kitchen Thai Cuisine',\n",
              " '27. Rooster & Rice',\n",
              " '28. Presidio Kebab',\n",
              " '29. Giorgio’s Pizzeria']"
            ]
          },
          "metadata": {
            "tags": []
          },
          "execution_count": 282
        }
      ]
    }
  ]
}
